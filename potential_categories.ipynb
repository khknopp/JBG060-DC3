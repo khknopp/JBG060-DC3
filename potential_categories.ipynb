{
 "cells": [
  {
   "cell_type": "markdown",
   "metadata": {},
   "source": [
    "### Potential categories & ratio"
   ]
  },
  {
   "cell_type": "markdown",
   "metadata": {},
   "source": [
    "From both all_africa and articles_summary"
   ]
  },
  {
   "cell_type": "code",
   "execution_count": 1,
   "metadata": {},
   "outputs": [],
   "source": [
    "import pandas as pd"
   ]
  },
  {
   "cell_type": "code",
   "execution_count": 2,
   "metadata": {},
   "outputs": [
    {
     "data": {
      "text/html": [
       "<div>\n",
       "<style scoped>\n",
       "    .dataframe tbody tr th:only-of-type {\n",
       "        vertical-align: middle;\n",
       "    }\n",
       "\n",
       "    .dataframe tbody tr th {\n",
       "        vertical-align: top;\n",
       "    }\n",
       "\n",
       "    .dataframe thead th {\n",
       "        text-align: right;\n",
       "    }\n",
       "</style>\n",
       "<table border=\"1\" class=\"dataframe\">\n",
       "  <thead>\n",
       "    <tr style=\"text-align: right;\">\n",
       "      <th></th>\n",
       "      <th>title</th>\n",
       "      <th>date</th>\n",
       "      <th>paragraphs</th>\n",
       "      <th>publisher</th>\n",
       "    </tr>\n",
       "  </thead>\n",
       "  <tbody>\n",
       "    <tr>\n",
       "      <th>0</th>\n",
       "      <td>South Sudan: A Former Child Soldier Fights to ...</td>\n",
       "      <td>2021-02-12</td>\n",
       "      <td>Sara, who was abducted at age 12, spent two ye...</td>\n",
       "      <td>Thomson Reuters Foundation (London)</td>\n",
       "    </tr>\n",
       "    <tr>\n",
       "      <th>1</th>\n",
       "      <td>South Sudan: #budget2019 - Will It Lead to Mor...</td>\n",
       "      <td>2019-02-21</td>\n",
       "      <td>Legal claims against the department now amount...</td>\n",
       "      <td>Bhekisisa (Johannesburg)</td>\n",
       "    </tr>\n",
       "    <tr>\n",
       "      <th>2</th>\n",
       "      <td>South Sudan: Retired NBA Star Elected Basketba...</td>\n",
       "      <td>2019-11-25</td>\n",
       "      <td>Former NBA star Luol Ajou Deng has been electe...</td>\n",
       "      <td>The East African (Nairobi)</td>\n",
       "    </tr>\n",
       "    <tr>\n",
       "      <th>3</th>\n",
       "      <td>South Sudan - Political Violence On the Rise, ...</td>\n",
       "      <td>2022-02-11</td>\n",
       "      <td>UN human rights experts have warned of increas...</td>\n",
       "      <td>UN News Service</td>\n",
       "    </tr>\n",
       "    <tr>\n",
       "      <th>4</th>\n",
       "      <td>South Sudan: S. Sudan Receives First Astrazene...</td>\n",
       "      <td>2021-03-25</td>\n",
       "      <td>Juba — South Sudan on Thursday received 132,00...</td>\n",
       "      <td>The East African (Nairobi)</td>\n",
       "    </tr>\n",
       "  </tbody>\n",
       "</table>\n",
       "</div>"
      ],
      "text/plain": [
       "                                               title        date  \\\n",
       "0  South Sudan: A Former Child Soldier Fights to ...  2021-02-12   \n",
       "1  South Sudan: #budget2019 - Will It Lead to Mor...  2019-02-21   \n",
       "2  South Sudan: Retired NBA Star Elected Basketba...  2019-11-25   \n",
       "3  South Sudan - Political Violence On the Rise, ...  2022-02-11   \n",
       "4  South Sudan: S. Sudan Receives First Astrazene...  2021-03-25   \n",
       "\n",
       "                                          paragraphs  \\\n",
       "0  Sara, who was abducted at age 12, spent two ye...   \n",
       "1  Legal claims against the department now amount...   \n",
       "2  Former NBA star Luol Ajou Deng has been electe...   \n",
       "3  UN human rights experts have warned of increas...   \n",
       "4  Juba — South Sudan on Thursday received 132,00...   \n",
       "\n",
       "                             publisher  \n",
       "0  Thomson Reuters Foundation (London)  \n",
       "1             Bhekisisa (Johannesburg)  \n",
       "2           The East African (Nairobi)  \n",
       "3                      UN News Service  \n",
       "4           The East African (Nairobi)  "
      ]
     },
     "execution_count": 2,
     "metadata": {},
     "output_type": "execute_result"
    }
   ],
   "source": [
    "df = pd.read_csv(\"data/all_africa_southsudan.csv\")\n",
    "df.head()"
   ]
  },
  {
   "cell_type": "code",
   "execution_count": 14,
   "metadata": {},
   "outputs": [
    {
     "name": "stdout",
     "output_type": "stream",
     "text": [
      "Counts for hunger: 732, 0.04\n",
      "Counts for refugees: 1940, 0.11\n",
      "Counts for humanitarian: 3881, 0.21\n",
      "Counts for conflict: 7249, 0.40\n"
     ]
    }
   ],
   "source": [
    "# checking the given 4 keywords \n",
    "target_word = 'hunger'\n",
    "mask = df['paragraphs'].str.contains(target_word)\n",
    "filtered_df = df[mask]\n",
    "print('Counts for {}: {}, {:.2f}'.format(target_word, filtered_df.count()['title'], filtered_df.count()['title']/len(df)))\n",
    "\n",
    "target_word = 'refugees'\n",
    "mask = df['paragraphs'].str.contains(target_word)\n",
    "filtered_df = df[mask]\n",
    "print('Counts for {}: {}, {:.2f}'.format(target_word, filtered_df.count()['title'], filtered_df.count()['title']/len(df)))\n",
    "\n",
    "target_word = 'humanitarian'\n",
    "mask = df['paragraphs'].str.contains(target_word)\n",
    "filtered_df = df[mask]\n",
    "print('Counts for {}: {}, {:.2f}'.format(target_word, filtered_df.count()['title'], filtered_df.count()['title']/len(df)))\n",
    "\n",
    "target_word = 'conflict'\n",
    "mask = df['paragraphs'].str.contains(target_word)\n",
    "filtered_df = df[mask]\n",
    "print('Counts for {}: {}, {:.2f}'.format(target_word, filtered_df.count()['title'], filtered_df.count()['title']/len(df)))\n"
   ]
  },
  {
   "cell_type": "code",
   "execution_count": 20,
   "metadata": {},
   "outputs": [
    {
     "name": "stdout",
     "output_type": "stream",
     "text": [
      "Counts for food: 3281, 0.18\n",
      "Counts for food insecurity: 576, 0.03\n",
      "Counts for famine: 770, 0.04\n",
      "Counts for starve: 107, 0.01\n",
      "Counts for starving: 117, 0.01\n",
      "Counts for disaster: 492, 0.03\n",
      "Counts for food security: 454, 0.02\n",
      "Counts for malnutrition: 538, 0.03\n"
     ]
    }
   ],
   "source": [
    "# checking keywords related to food insecurity\n",
    "target_word = 'food'\n",
    "mask = df['paragraphs'].str.contains(target_word)\n",
    "filtered_df = df[mask]\n",
    "print('Counts for {}: {}, {:.2f}'.format(target_word, filtered_df.count()['title'], filtered_df.count()['title']/len(df)))\n",
    "\n",
    "target_word = 'food insecurity'\n",
    "mask = df['paragraphs'].str.contains(target_word)\n",
    "filtered_df = df[mask]\n",
    "print('Counts for {}: {}, {:.2f}'.format(target_word, filtered_df.count()['title'], filtered_df.count()['title']/len(df)))\n",
    "\n",
    "target_word = 'famine'\n",
    "mask = df['paragraphs'].str.contains(target_word)\n",
    "filtered_df = df[mask]\n",
    "print('Counts for {}: {}, {:.2f}'.format(target_word, filtered_df.count()['title'], filtered_df.count()['title']/len(df)))\n",
    "\n",
    "target_word = 'starve'\n",
    "mask = df['paragraphs'].str.contains(target_word)\n",
    "filtered_df = df[mask]\n",
    "print('Counts for {}: {}, {:.2f}'.format(target_word, filtered_df.count()['title'], filtered_df.count()['title']/len(df)))\n",
    "\n",
    "target_word = 'starving'\n",
    "mask = df['paragraphs'].str.contains(target_word)\n",
    "filtered_df = df[mask]\n",
    "print('Counts for {}: {}, {:.2f}'.format(target_word, filtered_df.count()['title'], filtered_df.count()['title']/len(df)))\n",
    "\n",
    "target_word = 'disaster'\n",
    "mask = df['paragraphs'].str.contains(target_word)\n",
    "filtered_df = df[mask]\n",
    "print('Counts for {}: {}, {:.2f}'.format(target_word, filtered_df.count()['title'], filtered_df.count()['title']/len(df)))\n",
    "\n",
    "target_word = 'food security'\n",
    "mask = df['paragraphs'].str.contains(target_word)\n",
    "filtered_df = df[mask]\n",
    "print('Counts for {}: {}, {:.2f}'.format(target_word, filtered_df.count()['title'], filtered_df.count()['title']/len(df)))\n",
    "\n",
    "target_word = 'malnutrition'\n",
    "mask = df['paragraphs'].str.contains(target_word)\n",
    "filtered_df = df[mask]\n",
    "print('Counts for {}: {}, {:.2f}'.format(target_word, filtered_df.count()['title'], filtered_df.count()['title']/len(df)))"
   ]
  },
  {
   "cell_type": "code",
   "execution_count": 21,
   "metadata": {},
   "outputs": [
    {
     "name": "stdout",
     "output_type": "stream",
     "text": [
      "Counts for crisis: 3299, 0.18\n",
      "Counts for suffering: 1597, 0.09\n",
      "Counts for emergency: 1346, 0.07\n",
      "Counts for violence: 4776, 0.26\n"
     ]
    }
   ],
   "source": [
    "# checking keywords related to political issues or crisis in general\n",
    "target_word = 'crisis'\n",
    "mask = df['paragraphs'].str.contains(target_word)\n",
    "filtered_df = df[mask]\n",
    "print('Counts for {}: {}, {:.2f}'.format(target_word, filtered_df.count()['title'], filtered_df.count()['title']/len(df)))\n",
    "\n",
    "target_word = 'suffering'\n",
    "mask = df['paragraphs'].str.contains(target_word)\n",
    "filtered_df = df[mask]\n",
    "print('Counts for {}: {}, {:.2f}'.format(target_word, filtered_df.count()['title'], filtered_df.count()['title']/len(df)))\n",
    "\n",
    "target_word = 'emergency'\n",
    "mask = df['paragraphs'].str.contains(target_word)\n",
    "filtered_df = df[mask]\n",
    "print('Counts for {}: {}, {:.2f}'.format(target_word, filtered_df.count()['title'], filtered_df.count()['title']/len(df)))\n",
    "\n",
    "target_word = 'violence'\n",
    "mask = df['paragraphs'].str.contains(target_word)\n",
    "filtered_df = df[mask]\n",
    "print('Counts for {}: {}, {:.2f}'.format(target_word, filtered_df.count()['title'], filtered_df.count()['title']/len(df)))"
   ]
  },
  {
   "cell_type": "code",
   "execution_count": 22,
   "metadata": {},
   "outputs": [
    {
     "name": "stdout",
     "output_type": "stream",
     "text": [
      "Counts for humanitarian aid: 446, 0.02\n",
      "Counts for resources allocation: 3, 0.00\n",
      "Counts for shelter: 1360, 0.07\n",
      "Counts for healthcare: 336, 0.02\n",
      "Counts for aid: 14556, 0.80\n",
      "Counts for UN: 6633, 0.36\n",
      "Counts for NGO: 694, 0.04\n"
     ]
    }
   ],
   "source": [
    "# checking keywords related to humanitarian aid already provided/social awarness\n",
    "target_word = 'humanitarian aid'\n",
    "mask = df['paragraphs'].str.contains(target_word)\n",
    "filtered_df = df[mask]\n",
    "print('Counts for {}: {}, {:.2f}'.format(target_word, filtered_df.count()['title'], filtered_df.count()['title']/len(df)))\n",
    "\n",
    "target_word = 'resources allocation'\n",
    "mask = df['paragraphs'].str.contains(target_word)\n",
    "filtered_df = df[mask]\n",
    "print('Counts for {}: {}, {:.2f}'.format(target_word, filtered_df.count()['title'], filtered_df.count()['title']/len(df)))\n",
    "\n",
    "target_word = 'shelter'\n",
    "mask = df['paragraphs'].str.contains(target_word)\n",
    "filtered_df = df[mask]\n",
    "print('Counts for {}: {}, {:.2f}'.format(target_word, filtered_df.count()['title'], filtered_df.count()['title']/len(df)))\n",
    "\n",
    "target_word = 'healthcare'\n",
    "mask = df['paragraphs'].str.contains(target_word)\n",
    "filtered_df = df[mask]\n",
    "print('Counts for {}: {}, {:.2f}'.format(target_word, filtered_df.count()['title'], filtered_df.count()['title']/len(df)))\n",
    "\n",
    "target_word = 'aid'\n",
    "mask = df['paragraphs'].str.contains(target_word)\n",
    "filtered_df = df[mask]\n",
    "print('Counts for {}: {}, {:.2f}'.format(target_word, filtered_df.count()['title'], filtered_df.count()['title']/len(df)))\n",
    "\n",
    "target_word = 'UN'\n",
    "mask = df['paragraphs'].str.contains(target_word)\n",
    "filtered_df = df[mask]\n",
    "print('Counts for {}: {}, {:.2f}'.format(target_word, filtered_df.count()['title'], filtered_df.count()['title']/len(df)))\n",
    "\n",
    "target_word = 'NGO'\n",
    "mask = df['paragraphs'].str.contains(target_word)\n",
    "filtered_df = df[mask]\n",
    "print('Counts for {}: {}, {:.2f}'.format(target_word, filtered_df.count()['title'], filtered_df.count()['title']/len(df)))"
   ]
  },
  {
   "cell_type": "code",
   "execution_count": null,
   "metadata": {},
   "outputs": [],
   "source": []
  }
 ],
 "metadata": {
  "kernelspec": {
   "display_name": "Python 3",
   "language": "python",
   "name": "python3"
  },
  "language_info": {
   "codemirror_mode": {
    "name": "ipython",
    "version": 3
   },
   "file_extension": ".py",
   "mimetype": "text/x-python",
   "name": "python",
   "nbconvert_exporter": "python",
   "pygments_lexer": "ipython3",
   "version": "3.10.4"
  },
  "orig_nbformat": 4
 },
 "nbformat": 4,
 "nbformat_minor": 2
}
